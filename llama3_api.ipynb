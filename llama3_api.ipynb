{
  "nbformat": 4,
  "nbformat_minor": 0,
  "metadata": {
    "colab": {
      "provenance": [],
      "authorship_tag": "ABX9TyPPHUVEuGAEjJ8ZeiMbjFQN",
      "include_colab_link": true
    },
    "kernelspec": {
      "name": "python3",
      "display_name": "Python 3"
    },
    "language_info": {
      "name": "python"
    }
  },
  "cells": [
    {
      "cell_type": "markdown",
      "metadata": {
        "id": "view-in-github",
        "colab_type": "text"
      },
      "source": [
        "<a href=\"https://colab.research.google.com/github/KaidoAsuka/ML/blob/main/llama3_api.ipynb\" target=\"_parent\"><img src=\"https://colab.research.google.com/assets/colab-badge.svg\" alt=\"Open In Colab\"/></a>"
      ]
    },
    {
      "cell_type": "code",
      "execution_count": null,
      "metadata": {
        "id": "CHBmeRc2ZJjS"
      },
      "outputs": [],
      "source": [
        "!pip install -q -U google-generativeai"
      ]
    },
    {
      "cell_type": "code",
      "source": [
        "import google.generativeai as genai\n",
        "from google.colab import userdata\n",
        "\n",
        "GOOGLE_API_KEY=userdata.get('gemini_api')\n",
        "genai.configure(api_key=GOOGLE_API_KEY)"
      ],
      "metadata": {
        "id": "8ZptQfaAtX3W"
      },
      "execution_count": null,
      "outputs": []
    },
    {
      "cell_type": "code",
      "source": [
        "model = genai.GenerativeModel('gemini-pro')"
      ],
      "metadata": {
        "id": "vGAZZu1OtdnP"
      },
      "execution_count": null,
      "outputs": []
    },
    {
      "cell_type": "code",
      "source": [
        "response = model.generate_content(\"Write a story about a magic backpack.\")\n",
        "print(response.text)"
      ],
      "metadata": {
        "colab": {
          "base_uri": "https://localhost:8080/",
          "height": 367
        },
        "id": "WcsdTIIEtkgp",
        "outputId": "0494c061-ab85-47bc-acaf-42176f1e790e"
      },
      "execution_count": null,
      "outputs": [
        {
          "output_type": "stream",
          "name": "stdout",
          "text": [
            "In the quaint little town of Willow Creek, hidden among the rolling hills and whispering willows, there lived a curious and adventurous young girl named Anya. With her infectious laughter and a thirst for the unknown, Anya had a heart filled with dreams of exploring the world beyond her doorstep.\n",
            "\n",
            "One ordinary afternoon, as Anya skipped down the cobblestone streets, she stumbled upon an antique shop tucked away in a secluded corner. Intrigued by the glimmering treasures displayed in the window, she stepped inside. Amidst the dusty shelves and forgotten trinkets, her gaze fell upon a remarkable backpack.\n",
            "\n",
            "Its exterior was woven from an ancient fabric, adorned with intricate golden threads that seemed to shimmer with a life of their own. Anya reached out and touched the soft material, her fingertips tracing the mysterious symbols etched into its surface. As if by magic, the backpack vibrated gently beneath her touch.\n",
            "\n",
            "Driven by an irresistible curiosity, Anya purchased the backpack. Little did she know that this seemingly ordinary object held a secret that would forever change her life. As she carried it home, she noticed a faint humming emanating from its depths.\n",
            "\n",
            "That evening, as Anya settled into bed with a book, she placed the backpack beside her pillow. To her astonishment, the humming grew louder, and the symbols on its surface began to glow faintly. Suddenly, the backpack split open, revealing a swirling vortex of colors and light.\n",
            "\n",
            "Anya hesitated for a moment, her heart pounding in her chest. Driven by a mix of trepidation and exhilaration, she reached out and stepped into the vortex. In an instant, she was transported to a realm unlike anything she had ever seen before.\n",
            "\n",
            "Mountains of shimmering crystals rose into the sky, casting rainbow hues upon the vibrant landscape. Lush forests whispered ancient secrets, and creatures of every shape and size frolicked in the magical atmosphere. Anya realized that she had stumbled upon a hidden world where anything was possible.\n",
            "\n",
            "For days, Anya explored the wonders of this enchanted realm. She soared through the air on the back of a rainbow-winged unicorn, befriended talking animals, and discovered hidden treasures that surpassed her wildest dreams. But as time went on, she began to miss her family and friends back home.\n",
            "\n",
            "With a heavy heart, Anya bid farewell to her newfound companions and stepped back into the vortex. As she emerged from the backpack, she realized that she had been gone for only a few hours.\n",
            "\n",
            "From that day forward, Anya's magic backpack became her most cherished possession. It was a secret portal to a world where dreams took flight and impossible became possible. And so, whenever Anya longed for adventure or a touch of the extraordinary, she knew that all she had to do was reach into her背包and let the magic begin.\n"
          ]
        }
      ]
    }
  ]
}